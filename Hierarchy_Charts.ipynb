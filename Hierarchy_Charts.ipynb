{
  "nbformat": 4,
  "nbformat_minor": 0,
  "metadata": {
    "colab": {
      "provenance": [],
      "authorship_tag": "ABX9TyMKkd4qppJBH9ChOKsmpXLM",
      "include_colab_link": true
    },
    "kernelspec": {
      "name": "python3",
      "display_name": "Python 3"
    },
    "language_info": {
      "name": "python"
    }
  },
  "cells": [
    {
      "cell_type": "markdown",
      "metadata": {
        "id": "view-in-github",
        "colab_type": "text"
      },
      "source": [
        "<a href=\"https://colab.research.google.com/github/yecnalc/Coding-Set-10-11/blob/main/Hierarchy_Charts.ipynb\" target=\"_parent\"><img src=\"https://colab.research.google.com/assets/colab-badge.svg\" alt=\"Open In Colab\"/></a>"
      ]
    },
    {
      "cell_type": "markdown",
      "source": [
        "               Pet Class\n",
        "             /     |       \\\n",
        "    __init__    set_name   set_animal_type   set_age\n",
        "       |         /    \\          |              |\n",
        "       |        /      \\         |              |\n",
        "    set_name  set_animal_type  set_age         |\n",
        "         \\        |              |              |\n",
        "          \\       |              |              |\n",
        "      get_name get_animal_type  get_age         |\n",
        "         |              |              \\       /\n",
        "         |              |               \\     /\n",
        "        Main Program               get_name get_animal_type  get_age\n",
        "         |                                       |              |\n",
        "         |                                       |              |\n",
        "         |                                       |              |\n",
        "        Create Instance                           Print Details\n"
      ],
      "metadata": {
        "id": "evCIXEe_b_QB"
      }
    },
    {
      "cell_type": "markdown",
      "source": [
        "PersonalData Class\n",
        "   /      |         \\\n",
        "__init__  get_name  set_name\n",
        "         /   |   \\       |\n",
        "  get_address  |  set_address\n",
        "     /    |     \\      |\n",
        "get_age set_age  get_phone_number set_phone_number\n",
        "\n",
        "         |\n",
        "         |\n",
        "         |\n",
        "    Main Program\n",
        "         |\n",
        "         |\n",
        "         |\n",
        "    Create Instances\n",
        "         |\n",
        "         |\n",
        "         |\n",
        "    Print Details\n"
      ],
      "metadata": {
        "id": "K9z0IlqOcH7L"
      }
    },
    {
      "cell_type": "code",
      "source": [],
      "metadata": {
        "id": "K2mk8E0ScIle"
      },
      "execution_count": null,
      "outputs": []
    }
  ]
}