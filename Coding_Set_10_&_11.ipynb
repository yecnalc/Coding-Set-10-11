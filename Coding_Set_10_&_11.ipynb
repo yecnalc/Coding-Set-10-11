{
  "nbformat": 4,
  "nbformat_minor": 0,
  "metadata": {
    "colab": {
      "provenance": [],
      "authorship_tag": "ABX9TyN2GGOLl2nOL7RfVyz6840D",
      "include_colab_link": true
    },
    "kernelspec": {
      "name": "python3",
      "display_name": "Python 3"
    },
    "language_info": {
      "name": "python"
    }
  },
  "cells": [
    {
      "cell_type": "markdown",
      "metadata": {
        "id": "view-in-github",
        "colab_type": "text"
      },
      "source": [
        "<a href=\"https://colab.research.google.com/github/yecnalc/Coding-Set-10-11/blob/main/Coding_Set_10_%26_11.ipynb\" target=\"_parent\"><img src=\"https://colab.research.google.com/assets/colab-badge.svg\" alt=\"Open In Colab\"/></a>"
      ]
    },
    {
      "cell_type": "markdown",
      "source": [
        "# Coding Set 10 & 11"
      ],
      "metadata": {
        "id": "KMfF5QSGT9mG"
      }
    },
    {
      "cell_type": "markdown",
      "source": [
        "\"Design a class that holds the following personal data: name, address, age, and phone number. Write appropriate accessor and mutator methods. Also, write a program that creates three instances of the class. Each instance should hold fictional information for a fake person. (For privacy purposes, do not store real personal information in your program.)\""
      ],
      "metadata": {
        "id": "olm5bUMaUHES"
      }
    },
    {
      "cell_type": "code",
      "source": [
        "Class PersonalData:\n",
        "  def_init_(self.name, address, age, phone_number)\n",
        "  name = name\n",
        "  self.address = address\n",
        "  self.age = age\n",
        "  self.phone_number = phone_number\n",
        "\n",
        "  def get_name(self):\n",
        "    return  self.name\n",
        "  def get_address(self):\n",
        "    return self.address\n",
        "  def get_age(self):\n",
        "    return self.age\n",
        "  def get_phone_number(self):\n",
        "    return self.phone_number\n",
        "\n",
        "  def set_name(self,name)\n",
        "    self.name = Jack\n",
        "  def set address(self, address)\n",
        "    self.address = address\n",
        "  def set_age(self.age:)\n",
        "    self.age = age\n",
        "  def set_phone_number(self, phone_number):\n",
        "    self.phone_number = phone_number\n",
        "\n",
        "Person1 = PersonalData(\"Jack Johnson\", \"123 Lane St, East Lansing, 45, \"123-345-5566\")\n",
        "Person2 = PersonalData(\"Jane Doe\", \"4455 Circle St, East Lansing, 23, \"445-334-4533\")\n",
        "Person3 = PersonalData(\"John Cena\", \"667 Square St, East Lansing, 67, \"332-974-8694\" )\n",
        "\n",
        "print(\"Person 1:\")\n",
        "print(\"Name:\", person1.get_name())\n",
        "print(\"Address:\", person1.get_address())\n",
        "print(\"Age:\", person1.get_age())\n",
        "print(\"Phone Number:\", person1.get_phone_number())\n",
        "print()\n",
        "\n",
        "print(\"Person 2:\")\n",
        "print(\"Name:\", person2.get_name())\n",
        "print(\"Address:\", person2.get_address())\n",
        "print(\"Age:\", person2.get_age())\n",
        "print(\"Phone Number:\", person2.get_phone_number())\n",
        "print()\n",
        "\n",
        "print(\"Person 3:\")\n",
        "print(\"Name:\", person3.get_name())\n",
        "print(\"Address:\", person3.get_address())\n",
        "print(\"Age:\", person3.get_age())\n",
        "print(\"Phone Number:\", person3.get_phone_number())\n"
      ],
      "metadata": {
        "colab": {
          "base_uri": "https://localhost:8080/",
          "height": 105
        },
        "id": "beGEy4Z5U07y",
        "outputId": "90ad5879-424b-4578-b109-88408cb91226"
      },
      "execution_count": 1,
      "outputs": [
        {
          "output_type": "error",
          "ename": "SyntaxError",
          "evalue": "unterminated string literal (detected at line 26) (<ipython-input-1-5fc8239f480e>, line 26)",
          "traceback": [
            "\u001b[0;36m  File \u001b[0;32m\"<ipython-input-1-5fc8239f480e>\"\u001b[0;36m, line \u001b[0;32m26\u001b[0m\n\u001b[0;31m    Person1 = PersonalData(\"Jack Johnson\", \"123 Lane St, East Lansing, 45, \"123-345-5566\")\u001b[0m\n\u001b[0m                                                                                        ^\u001b[0m\n\u001b[0;31mSyntaxError\u001b[0m\u001b[0;31m:\u001b[0m unterminated string literal (detected at line 26)\n"
          ]
        }
      ]
    },
    {
      "cell_type": "code",
      "source": [
        "Class PersonalData:\n",
        "  def_init_(self.name, address, age, phone_number)\n",
        "  name = name\n",
        "  self.address = address\n",
        "  self.age = age\n",
        "  self.phone_number = phone_number\n",
        "\n",
        "  def get_name(self):\n",
        "    return  self.name\n",
        "  def get_address(self):\n",
        "    return self.address\n",
        "  def get_age(self):\n",
        "    return self.age\n",
        "  def get_phone_number(self):\n",
        "    return self.phone_number\n",
        "\n",
        "  def set_name(self,name)\n",
        "    self.name = Jack\n",
        "  def set address(self, address)\n",
        "    self.address = address\n",
        "  def set_age(self.age:)\n",
        "    self.age = age\n",
        "  def set_phone_number(self, phone_number):\n",
        "    self.phone_number = phone_number\n",
        "\n",
        "\n",
        "person1 = PersonalData(\"Jack Johnson\", \"123 Lane St, East Lansing\", 45, \"123-345-5566\")\n",
        "person2 = PersonalData(\"Jane Smith\", \"456 Elm St, Townsville\", 25, \"555-5678\")\n",
        "person3 = PersonalData(\"Bob Johnson\", \"789 Oak St, Villagetown\", 35, \"555-9101\")\n",
        "\n",
        "\n",
        "print(\"Person 1:\")\n",
        "print(\"Name:\", person1.get_name())\n",
        "print(\"Address:\", person1.get_address())\n",
        "print(\"Age:\", person1.get_age())\n",
        "print(\"Phone Number:\", person1.get_phone_number())\n",
        "print()\n",
        "\n",
        "print(\"Person 2:\")\n",
        "print(\"Name:\", person2.get_name())\n",
        "print(\"Address:\", person2.get_address())\n",
        "print(\"Age:\", person2.get_age())\n",
        "print(\"Phone Number:\", person2.get_phone_number())\n",
        "print()\n",
        "\n",
        "print(\"Person 3:\")\n",
        "print(\"Name:\", person3.get_name())\n",
        "print(\"Address:\", person3.get_address())\n",
        "print(\"Age:\", person3.get_age())\n",
        "print(\"Phone Number:\", person3.get_phone_number())"
      ],
      "metadata": {
        "colab": {
          "base_uri": "https://localhost:8080/",
          "height": 105
        },
        "id": "RvQ-F4OzYWSA",
        "outputId": "b370b36d-e115-46b2-b656-e3789dd2d220"
      },
      "execution_count": 2,
      "outputs": [
        {
          "output_type": "error",
          "ename": "SyntaxError",
          "evalue": "invalid syntax (<ipython-input-2-8235c26254fb>, line 1)",
          "traceback": [
            "\u001b[0;36m  File \u001b[0;32m\"<ipython-input-2-8235c26254fb>\"\u001b[0;36m, line \u001b[0;32m1\u001b[0m\n\u001b[0;31m    Class PersonalData:\u001b[0m\n\u001b[0m          ^\u001b[0m\n\u001b[0;31mSyntaxError\u001b[0m\u001b[0;31m:\u001b[0m invalid syntax\n"
          ]
        }
      ]
    },
    {
      "cell_type": "markdown",
      "source": [
        "Checking with ChatGPT to see where I went wrong\n"
      ],
      "metadata": {
        "id": "SKn3u4BqYlbT"
      }
    },
    {
      "cell_type": "code",
      "source": [
        "class PersonalData:\n",
        "    def __init__(self, name, address, age, phone_number):\n",
        "        self.name = name\n",
        "        self.address = address\n",
        "        self.age = age\n",
        "        self.phone_number = phone_number\n",
        "\n",
        "\n",
        "    def get_name(self):\n",
        "        return self.name\n",
        "\n",
        "    def get_address(self):\n",
        "        return self.address\n",
        "\n",
        "    def get_age(self):\n",
        "        return self.age\n",
        "\n",
        "    def get_phone_number(self):\n",
        "        return self.phone_number\n",
        "\n",
        "\n",
        "    def set_name(self, name):\n",
        "        self.name = name\n",
        "\n",
        "    def set_address(self, address):\n",
        "        self.address = address\n",
        "\n",
        "    def set_age(self, age):\n",
        "        self.age = age\n",
        "\n",
        "    def set_phone_number(self, phone_number):\n",
        "        self.phone_number = phone_number\n",
        "\n",
        "\n",
        "\n",
        "person1 = PersonalData(\"Jack Johnson\", \"123 Lane St, East Lansing\", 45, \"123-345-5566\")\n",
        "person2 = PersonalData(\"Jane Smith\", \"456 Elm St, Townsville\", 25, \"555-5678\")\n",
        "person3 = PersonalData(\"Bob Johnson\", \"789 Oak St, Villagetown\", 35, \"555-9101\")\n",
        "\n",
        "print(\"Person 1:\")\n",
        "print(\"Name:\", person1.get_name())\n",
        "print(\"Address:\", person1.get_address())\n",
        "print(\"Age:\", person1.get_age())\n",
        "print(\"Phone Number:\", person1.get_phone_number())\n",
        "print()\n",
        "\n",
        "print(\"Person 2:\")\n",
        "print(\"Name:\", person2.get_name())\n",
        "print(\"Address:\", person2.get_address())\n",
        "print(\"Age:\", person2.get_age())\n",
        "print(\"Phone Number:\", person2.get_phone_number())\n",
        "print()\n",
        "\n",
        "print(\"Person 3:\")\n",
        "print(\"Name:\", person3.get_name())\n",
        "print(\"Address:\", person3.get_address())\n",
        "print(\"Age:\", person3.get_age())\n",
        "print(\"Phone Number:\", person3.get_phone_number())\n",
        "\n"
      ],
      "metadata": {
        "colab": {
          "base_uri": "https://localhost:8080/"
        },
        "id": "ElNgkMiIYpxJ",
        "outputId": "bbadbbaf-2353-428f-c1dd-ec76a2e12ee7"
      },
      "execution_count": 4,
      "outputs": [
        {
          "output_type": "stream",
          "name": "stdout",
          "text": [
            "Person 1:\n",
            "Name: Jack Johnson\n",
            "Address: 123 Lane St, East Lansing\n",
            "Age: 45\n",
            "Phone Number: 123-345-5566\n",
            "\n",
            "Person 2:\n",
            "Name: Jane Smith\n",
            "Address: 456 Elm St, Townsville\n",
            "Age: 25\n",
            "Phone Number: 555-5678\n",
            "\n",
            "Person 3:\n",
            "Name: Bob Johnson\n",
            "Address: 789 Oak St, Villagetown\n",
            "Age: 35\n",
            "Phone Number: 555-9101\n"
          ]
        }
      ]
    },
    {
      "cell_type": "markdown",
      "source": [
        "Slight errors"
      ],
      "metadata": {
        "id": "BCYfqyjLY4rz"
      }
    },
    {
      "cell_type": "markdown",
      "source": [
        "\"Write a class named Pet, which should have the following data attributes:   (for the name of a pet) (for the type of animal that a pet is. Example values are ‘Dog’, ‘Cat’,and ‘Bird’) (for the pet’s age)The  class should have an  method that creates these attributes. It should also have the following methods:  This method assigns a value to the  field.This method assigns a value to the  field.This method assigns a value to the  field.This method returns the value of the  field.This method returns the value of the  field.This method returns the value of the  field.Once you have written the class, write a program that creates an object of the class and prompts the user to enter the name, type, and age of his or her pet. This data should be stored as the object’s attributes. Use the object’s accessor methods to retrieve the pet’s name, type, and age and display this data on the screen.\""
      ],
      "metadata": {
        "id": "qQhu5kGlZsWu"
      }
    },
    {
      "cell_type": "markdown",
      "source": [
        "This problem seems to be set up similar to the last one I did, so I will go off of that"
      ],
      "metadata": {
        "id": "DnkmoQRqaBWX"
      }
    },
    {
      "cell_type": "code",
      "source": [
        "class Pet:\n",
        "    def __init__(self):\n",
        "        self.name = \"\"\n",
        "        self.animal_type = \"\"\n",
        "        self.age = 0\n",
        "\n",
        "    def set_name(self, name):\n",
        "        self.name = name\n",
        "    def set_animal_type(self, animal_type):\n",
        "        self.animal_type = animal_type\n",
        "    def set_age(self, age):\n",
        "        self.age = age\n",
        "    def get_name(self):\n",
        "        return self.name\n",
        "    def get_animal_type(self):\n",
        "        return self.animal_type\n",
        "    def get_age(self):\n",
        "        return self.age\n",
        "\n",
        "pet = Pet()\n",
        "pet.set_name(input(\"Enter pet's name: \"))\n",
        "pet.set_animal_type(input(\"Enter pet's type (e.g., Dog, Cat, Bird): \"))\n",
        "pet.set_age(int(input(\"Enter pet's age: \")))\n",
        "print(\"\\nPet's Information:\")\n",
        "print(\"Name:\", pet.get_name())\n",
        "print(\"Type:\", pet.get_animal_type())\n",
        "print(\"Age:\", pet.get_age())\n"
      ],
      "metadata": {
        "colab": {
          "base_uri": "https://localhost:8080/"
        },
        "id": "mJtcr7d3aFX9",
        "outputId": "0c5ba7f9-a882-49f9-ea51-395094bd2e42"
      },
      "execution_count": 6,
      "outputs": [
        {
          "output_type": "stream",
          "name": "stdout",
          "text": [
            "Enter pet's name: Dolly\n",
            "Enter pet's type (e.g., Dog, Cat, Bird): Bird\n",
            "Enter pet's age: 7\n",
            "\n",
            "Pet's Information:\n",
            "Name: Dolly\n",
            "Type: Bird\n",
            "Age: 7\n"
          ]
        }
      ]
    },
    {
      "cell_type": "markdown",
      "source": [
        "Woohoo!"
      ],
      "metadata": {
        "id": "MU3mE-lraWLx"
      }
    },
    {
      "cell_type": "code",
      "source": [],
      "metadata": {
        "id": "QojYeRu7aXWa"
      },
      "execution_count": null,
      "outputs": []
    }
  ]
}